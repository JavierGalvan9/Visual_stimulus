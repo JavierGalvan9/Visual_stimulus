{
 "cells": [
  {
   "cell_type": "code",
   "execution_count": 1,
   "metadata": {},
   "outputs": [],
   "source": [
    "import pandas as pd\n",
    "import numpy as np\n",
    "import pickle as pkl\n",
    "import os\n",
    "import socket\n",
    "import tensorflow as tf\n",
    "import matplotlib.pyplot as plt"
   ]
  },
  {
   "cell_type": "code",
   "execution_count": 2,
   "metadata": {},
   "outputs": [],
   "source": [
    "from bmtk.simulator.filternet.lgnmodel.fitfuns import makeBasis_StimKernel\n",
    "from bmtk.simulator.filternet.lgnmodel.spatialfilter import GaussianSpatialFilter\n",
    "from bmtk.simulator.filternet.lgnmodel.temporalfilter import TemporalFilterCosineBump\n",
    "from bmtk.simulator.filternet.lgnmodel.util_fns import get_data_metrics_for_each_subclass, \\\n",
    "    get_tcross_from_temporal_kernel"
   ]
  },
  {
   "cell_type": "code",
   "execution_count": 12,
   "metadata": {},
   "outputs": [
    {
     "data": {
      "text/plain": [
       "array([1.76666667, 1.76666667, 1.76666667, ..., 3.62      , 3.62      ,\n",
       "       3.62      ])"
      ]
     },
     "execution_count": 12,
     "metadata": {},
     "output_type": "execute_result"
    }
   ],
   "source": [
    "path='spontaneous_firing_rates.pkl'\n",
    "with open(path, 'rb') as f:\n",
    "    data = pkl.load(f)\n",
    "data"
   ]
  },
  {
   "cell_type": "code",
   "execution_count": 13,
   "metadata": {},
   "outputs": [
    {
     "data": {
      "text/plain": [
       "{'dom_temporal_kernels': array([[0.0000000e+00, 0.0000000e+00, 0.0000000e+00, ..., 9.8227727e-05,\n",
       "         0.0000000e+00, 0.0000000e+00],\n",
       "        [0.0000000e+00, 0.0000000e+00, 0.0000000e+00, ..., 1.6836631e-03,\n",
       "         0.0000000e+00, 0.0000000e+00],\n",
       "        [0.0000000e+00, 0.0000000e+00, 0.0000000e+00, ..., 8.1802916e-04,\n",
       "         0.0000000e+00, 0.0000000e+00],\n",
       "        ...,\n",
       "        [0.0000000e+00, 0.0000000e+00, 0.0000000e+00, ..., 0.0000000e+00,\n",
       "         0.0000000e+00, 0.0000000e+00],\n",
       "        [0.0000000e+00, 0.0000000e+00, 0.0000000e+00, ..., 0.0000000e+00,\n",
       "         0.0000000e+00, 0.0000000e+00],\n",
       "        [0.0000000e+00, 0.0000000e+00, 0.0000000e+00, ..., 0.0000000e+00,\n",
       "         0.0000000e+00, 0.0000000e+00]], dtype=float32),\n",
       " 'non_dom_temporal_kernels': array([[0., 0., 0., ..., 0., 0., 0.],\n",
       "        [0., 0., 0., ..., 0., 0., 0.],\n",
       "        [0., 0., 0., ..., 0., 0., 0.],\n",
       "        ...,\n",
       "        [0., 0., 0., ..., 0., 0., 0.],\n",
       "        [0., 0., 0., ..., 0., 0., 0.],\n",
       "        [0., 0., 0., ..., 0., 0., 0.]], dtype=float32),\n",
       " 'non_dominant_x': array([0., 0., 0., ..., 0., 0., 0.]),\n",
       " 'non_dominant_y': array([0., 0., 0., ..., 0., 0., 0.]),\n",
       " 'amplitude': array([ 1.,  1.,  1., ..., -1., -1., -1.]),\n",
       " 'non_dom_amplitude': array([0., 0., 0., ..., 0., 0., 0.]),\n",
       " 'spontaneous_firing_rates': array([1.76666667, 1.76666667, 1.76666667, ..., 3.62      , 3.62      ,\n",
       "        3.62      ])}"
      ]
     },
     "execution_count": 13,
     "metadata": {},
     "output_type": "execute_result"
    }
   ],
   "source": [
    "path='temporal_kernels.pkl'\n",
    "with open(path, 'rb') as f:\n",
    "    data = pkl.load(f)\n",
    "data"
   ]
  },
  {
   "cell_type": "code",
   "execution_count": null,
   "metadata": {},
   "outputs": [],
   "source": []
  },
  {
   "cell_type": "code",
   "execution_count": 4,
   "metadata": {},
   "outputs": [],
   "source": [
    "path='data/lgn_full_col_cells_3.csv'\n",
    "d = pd.read_csv(path, delimiter=' ')"
   ]
  },
  {
   "cell_type": "code",
   "execution_count": 10,
   "metadata": {},
   "outputs": [],
   "source": [
    "spatial_sizes = d['spatial_size'].to_numpy()\n",
    "model_id = d['model_id'].to_numpy()\n",
    "amplitude = np.array(\n",
    "            [1. if a.count('ON') > 0 else -1. for a in model_id])\n",
    "non_dom_amplitude = np.zeros_like(amplitude)\n",
    "is_composite = np.array([a.count('ON') > 0 and a.count(\n",
    "            'OFF') > 0 for a in model_id]).astype(np.float32)\n",
    "x = d['x'].to_numpy()\n",
    "y = d['y'].to_numpy()\n",
    "non_dominant_x = np.zeros_like(x)\n",
    "non_dominant_y = np.zeros_like(y)\n",
    "tuning_angle = d['tuning_angle'].to_numpy()\n",
    "subfield_separation = d['sf_sep'].to_numpy()\n"
   ]
  },
  {
   "cell_type": "code",
   "execution_count": 19,
   "metadata": {},
   "outputs": [],
   "source": [
    "s_path = 'spontaneous_firing_rates.pkl'\n",
    "with open(s_path, 'rb') as f:\n",
    "    spontaneous_firing_rates = pkl.load(f)"
   ]
  },
  {
   "cell_type": "code",
   "execution_count": 22,
   "metadata": {},
   "outputs": [
    {
     "data": {
      "text/plain": [
       "array([1.76666667, 1.76666667, 1.76666667, ..., 3.62      , 3.62      ,\n",
       "       3.62      ])"
      ]
     },
     "execution_count": 22,
     "metadata": {},
     "output_type": "execute_result"
    }
   ],
   "source": [
    "spontaneous_firing_rates"
   ]
  },
  {
   "cell_type": "code",
   "execution_count": 29,
   "metadata": {},
   "outputs": [],
   "source": [
    "temporal_peaks_dom = np.stack(\n",
    "            (d['kpeaks_dom_0'].to_numpy(), d['kpeaks_dom_1'].to_numpy()), -1)\n",
    "temporal_weights = np.stack(\n",
    "            (d['weight_dom_0'].to_numpy(), d['weight_dom_1'].to_numpy()), -1)\n",
    "temporal_delays = np.stack(\n",
    "            (d['delay_dom_0'].to_numpy(), d['delay_dom_1'].to_numpy()), -1)"
   ]
  },
  {
   "cell_type": "code",
   "execution_count": 30,
   "metadata": {},
   "outputs": [],
   "source": [
    "temporal_peaks_non_dom = np.stack(\n",
    "            (d['kpeaks_non_dom_0'].to_numpy(), d['kpeaks_non_dom_1'].to_numpy()), -1)\n",
    "temporal_weights_non_dom = np.stack(\n",
    "    (d['weight_non_dom_0'].to_numpy(), d['weight_non_dom_1'].to_numpy()), -1)\n",
    "temporal_delays_non_dom = np.stack(\n",
    "    (d['delay_non_dom_0'].to_numpy(), d['delay_non_dom_1'].to_numpy()), -1)\n"
   ]
  },
  {
   "cell_type": "code",
   "execution_count": 32,
   "metadata": {},
   "outputs": [
    {
     "name": "stdout",
     "output_type": "stream",
     "text": [
      "Number of non dominant cells: 1950\n"
     ]
    }
   ],
   "source": [
    "# count the number of non nan rows in temporal_weights_non_dom\n",
    "num_non_dom = np.sum(~np.isnan(temporal_weights_non_dom[:, 0]))\n",
    "print('Number of non dominant cells: {}'.format(num_non_dom))"
   ]
  },
  {
   "cell_type": "code",
   "execution_count": 34,
   "metadata": {},
   "outputs": [],
   "source": [
    "# values from bmtk\n",
    "t_path = 'temporal_kernels.pkl'\n",
    "with open(t_path, 'rb') as f:\n",
    "    loaded = pkl.load(f)"
   ]
  },
  {
   "cell_type": "code",
   "execution_count": 36,
   "metadata": {},
   "outputs": [],
   "source": [
    "dom_temporal_kernels = loaded['dom_temporal_kernels']\n",
    "non_dom_temporal_kernels = loaded['non_dom_temporal_kernels']\n",
    "non_dominant_x = loaded['non_dominant_x']\n",
    "non_dominant_y = loaded['non_dominant_y']\n",
    "amplitude = loaded['amplitude']\n",
    "non_dom_amplitude = loaded['non_dom_amplitude']\n",
    "spontaneous_firing_rates = loaded['spontaneous_firing_rates']"
   ]
  },
  {
   "cell_type": "code",
   "execution_count": 41,
   "metadata": {},
   "outputs": [
    {
     "data": {
      "text/plain": [
       "(17400,)"
      ]
     },
     "execution_count": 41,
     "metadata": {},
     "output_type": "execute_result"
    }
   ],
   "source": [
    "spontaneous_firing_rates.shape"
   ]
  },
  {
   "cell_type": "code",
   "execution_count": 46,
   "metadata": {},
   "outputs": [
    {
     "data": {
      "text/plain": [
       "array([565, 564, 563, ..., 480, 485, 478])"
      ]
     },
     "execution_count": 46,
     "metadata": {},
     "output_type": "execute_result"
    }
   ],
   "source": [
    "np.sum(np.cumsum(np.abs(dom_temporal_kernels), axis=1) <= 1e-6, 1)"
   ]
  },
  {
   "cell_type": "code",
   "execution_count": 47,
   "metadata": {},
   "outputs": [
    {
     "name": "stdout",
     "output_type": "stream",
     "text": [
      "Could truncate 126 steps from filter\n"
     ]
    }
   ],
   "source": [
    "truncation = np.min(\n",
    "    np.sum(np.cumsum(np.abs(dom_temporal_kernels), axis=1) <= 1e-6, 1))\n",
    "non_dom_truncation = np.min(\n",
    "    np.sum(np.cumsum(np.abs(non_dom_temporal_kernels), axis=1) <= 1e-6, 1))\n",
    "truncation = np.min([truncation, non_dom_truncation])\n",
    "print(f'Could truncate {truncation} steps from filter')"
   ]
  },
  {
   "cell_type": "code",
   "execution_count": 50,
   "metadata": {},
   "outputs": [
    {
     "name": "stdout",
     "output_type": "stream",
     "text": [
      "x range: 0.00019167014462973705 - 236.97845715910154\n",
      "y range: 0.0003447157278895983 - 118.9986440607937\n"
     ]
    }
   ],
   "source": [
    "x = x * 239 / 240\n",
    "# print range of x\n",
    "print('x range: {} - {}'.format(np.min(x), np.max(x)))\n",
    "\n",
    "# repeat the same for y\n",
    "y = y * 119 / 120\n",
    "print('y range: {} - {}'.format(np.min(y), np.max(y)))"
   ]
  },
  {
   "cell_type": "code",
   "execution_count": 52,
   "metadata": {},
   "outputs": [
    {
     "data": {
      "text/plain": [
       "0"
      ]
     },
     "execution_count": 52,
     "metadata": {},
     "output_type": "execute_result"
    }
   ],
   "source": [
    "non_dominant_x = non_dominant_x * 239 / 240\n",
    "non_dominant_y = non_dominant_y * 119 / 120\n",
    "non_dominant_x[np.floor(non_dominant_x) < 0] = 0.\n",
    "non_dominant_y[np.floor(non_dominant_y) < 0] = 0."
   ]
  },
  {
   "cell_type": "code",
   "execution_count": 14,
   "metadata": {},
   "outputs": [
    {
     "name": "stdout",
     "output_type": "stream",
     "text": [
      "(1, 1)\n",
      "(7, 7)\n",
      "(7, 7)\n",
      "(11, 11)\n",
      "(11, 11)\n",
      "(17, 17)\n",
      "(17, 17)\n",
      "(23, 23)\n",
      "(23, 23)\n",
      "(27, 27)\n",
      "(27, 27)\n",
      "(33, 33)\n",
      "(33, 33)\n",
      "(39, 39)\n"
     ]
    }
   ],
   "source": [
    "d_spatial = 1.\n",
    "spatial_range = np.arange(0, 15, d_spatial)\n",
    "x_range = np.arange(-50, 51)\n",
    "y_range = np.arange(-50, 51)\n",
    "# kernels = []\n",
    "gaussian_filters = []\n",
    "for i in range(len(spatial_range) - 1):\n",
    "    sigma = np.round(np.mean(spatial_range[i:i+2])) / 3\n",
    "    original_filter = GaussianSpatialFilter(translate=(\n",
    "        0., 0.), sigma=(sigma, sigma), origin=(0., 0.))\n",
    "    kernel = original_filter.get_kernel(\n",
    "        x_range, y_range, amplitude=1.).full()\n",
    "    nonzero_inds = np.where(np.abs(kernel) > 1e-9)\n",
    "    rm, rM = nonzero_inds[0].min(), nonzero_inds[0].max()\n",
    "    cm, cM = nonzero_inds[1].min(), nonzero_inds[1].max()\n",
    "    kernel = kernel[rm:rM + 1, cm:cM + 1]\n",
    "    print(kernel.shape)"
   ]
  },
  {
   "cell_type": "code",
   "execution_count": 57,
   "metadata": {},
   "outputs": [
    {
     "data": {
      "text/plain": [
       "(101, 101)"
      ]
     },
     "execution_count": 57,
     "metadata": {},
     "output_type": "execute_result"
    }
   ],
   "source": [
    "kernel.shape"
   ]
  },
  {
   "cell_type": "code",
   "execution_count": 59,
   "metadata": {},
   "outputs": [],
   "source": [
    "nonzero_inds = np.where(np.abs(kernel) > 1e-9)\n",
    "rm, rM = nonzero_inds[0].min(), nonzero_inds[0].max()\n",
    "cm, cM = nonzero_inds[1].min(), nonzero_inds[1].max()\n",
    "kernel = kernel[rm:rM + 1, cm:cM + 1]"
   ]
  },
  {
   "cell_type": "code",
   "execution_count": 60,
   "metadata": {},
   "outputs": [
    {
     "data": {
      "text/plain": [
       "(39, 39)"
      ]
     },
     "execution_count": 60,
     "metadata": {},
     "output_type": "execute_result"
    }
   ],
   "source": [
    "kernel.shape"
   ]
  },
  {
   "cell_type": "code",
   "execution_count": 61,
   "metadata": {},
   "outputs": [
    {
     "data": {
      "text/plain": [
       "array([4.7385367 , 5.96982292, 2.93153839, ..., 4.27969986, 6.45006124,\n",
       "       3.35932572])"
      ]
     },
     "execution_count": 61,
     "metadata": {},
     "output_type": "execute_result"
    }
   ],
   "source": [
    "spatial_sizes"
   ]
  },
  {
   "cell_type": "code",
   "execution_count": null,
   "metadata": {},
   "outputs": [],
   "source": [
    "all_spatial_responses = []\n",
    "neuron_ids = []\n",
    "all_non_dom_spatial_responses = []\n",
    "\n",
    "for i in range(len(spatial_range) - 1):\n",
    "    sel = np.logical_and(\n",
    "        spatial_sizes < spatial_range[i + 1], spatial_sizes >= spatial_range[i])\n",
    "    if np.sum(sel) <= 0:\n",
    "        continue\n",
    "    neuron_ids.extend(np.where(sel)[0])"
   ]
  }
 ],
 "metadata": {
  "kernelspec": {
   "display_name": "predictive_coding",
   "language": "python",
   "name": "python3"
  },
  "language_info": {
   "codemirror_mode": {
    "name": "ipython",
    "version": 3
   },
   "file_extension": ".py",
   "mimetype": "text/x-python",
   "name": "python",
   "nbconvert_exporter": "python",
   "pygments_lexer": "ipython3",
   "version": "3.8.5"
  },
  "orig_nbformat": 4
 },
 "nbformat": 4,
 "nbformat_minor": 2
}
